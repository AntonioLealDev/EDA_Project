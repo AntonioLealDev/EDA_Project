{
 "metadata": {
  "language_info": {
   "codemirror_mode": {
    "name": "ipython",
    "version": 3
   },
   "file_extension": ".py",
   "mimetype": "text/x-python",
   "name": "python",
   "nbconvert_exporter": "python",
   "pygments_lexer": "ipython3",
   "version": "3.8.3-final"
  },
  "orig_nbformat": 2,
  "kernelspec": {
   "name": "python38364bit164af2ad12ec43738b613afbc283bc8a",
   "display_name": "Python 3.8.3 64-bit",
   "language": "python"
  }
 },
 "nbformat": 4,
 "nbformat_minor": 2,
 "cells": [
  {
   "cell_type": "code",
   "execution_count": 2,
   "metadata": {},
   "outputs": [],
   "source": [
    "import pandas as pd\n",
    "import matplotlib.pyplot as plt\n",
    "import numpy as np"
   ]
  },
  {
   "cell_type": "code",
   "execution_count": 3,
   "metadata": {},
   "outputs": [],
   "source": [
    "#Reading CO2 data from file\n",
    "CO2_raw_data = pd.read_csv(\"..\\\\resources\\\\CO2.csv\")"
   ]
  },
  {
   "cell_type": "code",
   "execution_count": 4,
   "metadata": {},
   "outputs": [],
   "source": [
    "#Deleting undesired columns from CO2_data_raw\n",
    "CO2_data = CO2_raw_data.drop(columns=[\"Country Code\", \"Indicator Name\", \"Indicator Code\"]).iloc[:,:-5]"
   ]
  },
  {
   "cell_type": "code",
   "execution_count": 5,
   "metadata": {},
   "outputs": [],
   "source": [
    "#Deleting rows with NaN values from CO2_data\n",
    "CO2_data.dropna(axis=0, how=\"any\", inplace=True)\n",
    "CO2_data.reset_index(inplace=True, drop=True)"
   ]
  },
  {
   "cell_type": "code",
   "execution_count": 6,
   "metadata": {},
   "outputs": [],
   "source": [
    "#Reading country temperatures raw data\n",
    "temp_country_raw = pd.read_csv(\"..\\\\resources\\\\GlobalLandTemperaturesByCountry.csv\")"
   ]
  },
  {
   "cell_type": "code",
   "execution_count": 7,
   "metadata": {},
   "outputs": [],
   "source": [
    "#Removing undesired column from data and converting dt row to datetime format\n",
    "temp_country = temp_country_raw.drop(columns=[\"AverageTemperatureUncertainty\"])\n",
    "temp_country[\"dt\"] = pd.to_datetime(temp_country[\"dt\"])"
   ]
  },
  {
   "cell_type": "code",
   "execution_count": 8,
   "metadata": {},
   "outputs": [],
   "source": [
    "#Getting list of countries from CO2_data\n",
    "country_list_CO2 = list(CO2_data[\"Country Name\"])"
   ]
  },
  {
   "cell_type": "code",
   "execution_count": 10,
   "metadata": {},
   "outputs": [],
   "source": [
    "#Deleting temperatures from countries without CO2 data\n",
    "temp_country_clean = temp_country[temp_country[\"Country\"].isin(country_list_CO2)]"
   ]
  },
  {
   "cell_type": "code",
   "execution_count": 11,
   "metadata": {},
   "outputs": [],
   "source": [
    "#Getting list of countries from temp_country_clean\n",
    "country_list_temp = list(temp_country_clean[\"Country\"].unique())"
   ]
  },
  {
   "cell_type": "code",
   "execution_count": 107,
   "metadata": {},
   "outputs": [
    {
     "output_type": "execute_result",
     "data": {
      "text/plain": [
       "           Afghanistan  Albania   Algeria     Angola Argentina    Aruba  \\\n",
       "Year                                                                      \n",
       "1960-01-01   0.0460567  1.25819   0.55712   0.100835   2.38334   204.62   \n",
       "1961-01-01   0.0535888  1.37419  0.535024  0.0822038   2.45855  208.823   \n",
       "\n",
       "           Australia  Austria  Bahrain Bangladesh  ...       Togo     Tonga  \\\n",
       "Year                                               ...                        \n",
       "1960-01-01   8.58294  4.37332  3.54448   0.294805  ...  0.0417624  0.178654   \n",
       "1961-01-01   8.64157  4.49636  10.5493   0.296924  ...  0.0573856  0.172659   \n",
       "\n",
       "             Tunisia    Turkey     Uganda United Arab Emirates United Kingdom  \\\n",
       "Year                                                                            \n",
       "1960-01-01   0.41337  0.612271   0.062317             0.119035        11.1508   \n",
       "1961-01-01  0.417045  0.616879  0.0582829             0.109141        11.1541   \n",
       "\n",
       "           United States  Uruguay   Vietnam  \n",
       "Year                                         \n",
       "1960-01-01       15.9998  1.70159  0.181947  \n",
       "1961-01-01       15.6813  1.60273  0.183099  \n",
       "\n",
       "[2 rows x 124 columns]"
      ],
      "text/html": "<div>\n<style scoped>\n    .dataframe tbody tr th:only-of-type {\n        vertical-align: middle;\n    }\n\n    .dataframe tbody tr th {\n        vertical-align: top;\n    }\n\n    .dataframe thead th {\n        text-align: right;\n    }\n</style>\n<table border=\"1\" class=\"dataframe\">\n  <thead>\n    <tr style=\"text-align: right;\">\n      <th></th>\n      <th>Afghanistan</th>\n      <th>Albania</th>\n      <th>Algeria</th>\n      <th>Angola</th>\n      <th>Argentina</th>\n      <th>Aruba</th>\n      <th>Australia</th>\n      <th>Austria</th>\n      <th>Bahrain</th>\n      <th>Bangladesh</th>\n      <th>...</th>\n      <th>Togo</th>\n      <th>Tonga</th>\n      <th>Tunisia</th>\n      <th>Turkey</th>\n      <th>Uganda</th>\n      <th>United Arab Emirates</th>\n      <th>United Kingdom</th>\n      <th>United States</th>\n      <th>Uruguay</th>\n      <th>Vietnam</th>\n    </tr>\n    <tr>\n      <th>Year</th>\n      <th></th>\n      <th></th>\n      <th></th>\n      <th></th>\n      <th></th>\n      <th></th>\n      <th></th>\n      <th></th>\n      <th></th>\n      <th></th>\n      <th></th>\n      <th></th>\n      <th></th>\n      <th></th>\n      <th></th>\n      <th></th>\n      <th></th>\n      <th></th>\n      <th></th>\n      <th></th>\n      <th></th>\n    </tr>\n  </thead>\n  <tbody>\n    <tr>\n      <th>1960-01-01</th>\n      <td>0.0460567</td>\n      <td>1.25819</td>\n      <td>0.55712</td>\n      <td>0.100835</td>\n      <td>2.38334</td>\n      <td>204.62</td>\n      <td>8.58294</td>\n      <td>4.37332</td>\n      <td>3.54448</td>\n      <td>0.294805</td>\n      <td>...</td>\n      <td>0.0417624</td>\n      <td>0.178654</td>\n      <td>0.41337</td>\n      <td>0.612271</td>\n      <td>0.062317</td>\n      <td>0.119035</td>\n      <td>11.1508</td>\n      <td>15.9998</td>\n      <td>1.70159</td>\n      <td>0.181947</td>\n    </tr>\n    <tr>\n      <th>1961-01-01</th>\n      <td>0.0535888</td>\n      <td>1.37419</td>\n      <td>0.535024</td>\n      <td>0.0822038</td>\n      <td>2.45855</td>\n      <td>208.823</td>\n      <td>8.64157</td>\n      <td>4.49636</td>\n      <td>10.5493</td>\n      <td>0.296924</td>\n      <td>...</td>\n      <td>0.0573856</td>\n      <td>0.172659</td>\n      <td>0.417045</td>\n      <td>0.616879</td>\n      <td>0.0582829</td>\n      <td>0.109141</td>\n      <td>11.1541</td>\n      <td>15.6813</td>\n      <td>1.60273</td>\n      <td>0.183099</td>\n    </tr>\n  </tbody>\n</table>\n<p>2 rows × 124 columns</p>\n</div>"
     },
     "metadata": {},
     "execution_count": 107
    }
   ],
   "source": [
    "#Deleting countries without temp data\n",
    "CO2_data_clean = CO2_data[CO2_data[\"Country Name\"].isin(country_list_temp)]\n",
    "\n",
    "#Reformating data frame to have Countries by columns\n",
    "columns = list(CO2_data_clean[\"Country Name\"])\n",
    "CO2_data_clean = CO2_data_clean.transpose()\n",
    "CO2_data_clean.columns = columns\n",
    "CO2_data_clean.drop(index=\"Country Name\", inplace = True)\n",
    "CO2_data_clean[\"Year\"] = CO2_data_clean.index\n",
    "\n",
    "#Reordering columns\n",
    "CO2_data_clean = CO2_data_clean[[\"Year\"]+columns]\n",
    "\n",
    "#Changing 'Year' column type to datetime\n",
    "CO2_data_clean[\"Year\"] = pd.to_datetime(CO2_data_clean[\"Year\"])\n",
    "\n",
    "#Resetting dataframe indexes\n",
    "CO2_data_clean.set_index(\"Year\", inplace=True)\n",
    "CO2_data_clean.sort_index(axis=1, inplace=True)\n",
    "\n",
    "#Now CO2_data_clean is ready to work with it\n",
    "CO2_data_clean.head(2)"
   ]
  },
  {
   "cell_type": "code",
   "execution_count": 46,
   "metadata": {},
   "outputs": [
    {
     "output_type": "execute_result",
     "data": {
      "text/plain": [
       "6"
      ]
     },
     "metadata": {},
     "execution_count": 46
    }
   ],
   "source": [
    "#Getting temperatures from 1910 (50 years before CO2 data) to 2013 (there is no data after that date)\n",
    "temp_country_clean = temp_country_clean.loc[(temp_country_clean[\"dt\"] > \"1910-01-01\") & (temp_country_clean[\"dt\"] < \"2013-09-01\")]\n",
    "\n",
    "#Are there any NaN values in that slice?\n",
    "temp_country_clean[\"AverageTemperature\"].isna().sum()"
   ]
  },
  {
   "cell_type": "code",
   "execution_count": 47,
   "metadata": {},
   "outputs": [
    {
     "output_type": "stream",
     "name": "stdout",
     "text": [
      "French Polynesia - 6\n"
     ]
    }
   ],
   "source": [
    "#Checking The countries with incomplete data\n",
    "for country in country_list_temp:\n",
    "    b = temp_country_clean.loc[a[\"Country\"] == country]\n",
    "    if b[\"AverageTemperature\"].isna().sum() != 0:\n",
    "        print(country, \"-\", b[\"AverageTemperature\"].isna().sum())"
   ]
  },
  {
   "cell_type": "code",
   "execution_count": 70,
   "metadata": {},
   "outputs": [],
   "source": [
    "#Reformating temperature data\n",
    "aux = temp_country_clean.loc[temp_country_clean[\"Country\"] == country_list_temp[0]]\n",
    "aux.rename(columns={\"dt\":\"Date\",\"AverageTemperature\":country_list_temp[0]}, inplace=True)\n",
    "aux.drop(columns=\"Country\", inplace = True)\n",
    "\n",
    "#Changing 'Year' column type to datetime\n",
    "aux[\"Date\"] = pd.to_datetime(aux[\"Date\"])\n",
    "\n",
    "#Resetting dataframe indexes\n",
    "aux.set_index(\"Date\", inplace=True)"
   ]
  },
  {
   "cell_type": "code",
   "execution_count": 76,
   "metadata": {},
   "outputs": [],
   "source": [
    "#Adding all countries\n",
    "for i in range(len(country_list_temp)):\n",
    "    aux[country_list_temp[i]] = list(temp_country_clean.loc[temp_country_clean[\"Country\"] == country_list_temp[i]][\"AverageTemperature\"])\n",
    "temp_country_final = aux"
   ]
  },
  {
   "cell_type": "code",
   "execution_count": 108,
   "metadata": {},
   "outputs": [
    {
     "output_type": "execute_result",
     "data": {
      "text/plain": [
       "            Afghanistan  Albania  Algeria  Angola  Argentina   Aruba  \\\n",
       "Date                                                                   \n",
       "1910-02-01        3.851    7.284   13.918  22.766     19.077  25.260   \n",
       "1910-03-01        6.727    6.722   17.787  22.736     16.474  25.239   \n",
       "\n",
       "            Australia  Austria  Bahrain  Bangladesh  ...    Togo   Tonga  \\\n",
       "Date                                                 ...                   \n",
       "1910-02-01     27.435   -0.608   17.303      19.763  ...  28.534  25.841   \n",
       "1910-03-01     24.410    2.077   18.589      24.372  ...  28.719  25.374   \n",
       "\n",
       "            Tunisia  Turkey  Uganda  United Arab Emirates  United Kingdom  \\\n",
       "Date                                                                        \n",
       "1910-02-01   10.705   3.695  23.313                20.208           4.780   \n",
       "1910-03-01   13.804   4.112  23.395                22.258           5.998   \n",
       "\n",
       "            United States  Uruguay  Vietnam  \n",
       "Date                                         \n",
       "1910-02-01         -4.243   21.489   19.921  \n",
       "1910-03-01          5.972   18.844   21.841  \n",
       "\n",
       "[2 rows x 124 columns]"
      ],
      "text/html": "<div>\n<style scoped>\n    .dataframe tbody tr th:only-of-type {\n        vertical-align: middle;\n    }\n\n    .dataframe tbody tr th {\n        vertical-align: top;\n    }\n\n    .dataframe thead th {\n        text-align: right;\n    }\n</style>\n<table border=\"1\" class=\"dataframe\">\n  <thead>\n    <tr style=\"text-align: right;\">\n      <th></th>\n      <th>Afghanistan</th>\n      <th>Albania</th>\n      <th>Algeria</th>\n      <th>Angola</th>\n      <th>Argentina</th>\n      <th>Aruba</th>\n      <th>Australia</th>\n      <th>Austria</th>\n      <th>Bahrain</th>\n      <th>Bangladesh</th>\n      <th>...</th>\n      <th>Togo</th>\n      <th>Tonga</th>\n      <th>Tunisia</th>\n      <th>Turkey</th>\n      <th>Uganda</th>\n      <th>United Arab Emirates</th>\n      <th>United Kingdom</th>\n      <th>United States</th>\n      <th>Uruguay</th>\n      <th>Vietnam</th>\n    </tr>\n    <tr>\n      <th>Date</th>\n      <th></th>\n      <th></th>\n      <th></th>\n      <th></th>\n      <th></th>\n      <th></th>\n      <th></th>\n      <th></th>\n      <th></th>\n      <th></th>\n      <th></th>\n      <th></th>\n      <th></th>\n      <th></th>\n      <th></th>\n      <th></th>\n      <th></th>\n      <th></th>\n      <th></th>\n      <th></th>\n      <th></th>\n    </tr>\n  </thead>\n  <tbody>\n    <tr>\n      <th>1910-02-01</th>\n      <td>3.851</td>\n      <td>7.284</td>\n      <td>13.918</td>\n      <td>22.766</td>\n      <td>19.077</td>\n      <td>25.260</td>\n      <td>27.435</td>\n      <td>-0.608</td>\n      <td>17.303</td>\n      <td>19.763</td>\n      <td>...</td>\n      <td>28.534</td>\n      <td>25.841</td>\n      <td>10.705</td>\n      <td>3.695</td>\n      <td>23.313</td>\n      <td>20.208</td>\n      <td>4.780</td>\n      <td>-4.243</td>\n      <td>21.489</td>\n      <td>19.921</td>\n    </tr>\n    <tr>\n      <th>1910-03-01</th>\n      <td>6.727</td>\n      <td>6.722</td>\n      <td>17.787</td>\n      <td>22.736</td>\n      <td>16.474</td>\n      <td>25.239</td>\n      <td>24.410</td>\n      <td>2.077</td>\n      <td>18.589</td>\n      <td>24.372</td>\n      <td>...</td>\n      <td>28.719</td>\n      <td>25.374</td>\n      <td>13.804</td>\n      <td>4.112</td>\n      <td>23.395</td>\n      <td>22.258</td>\n      <td>5.998</td>\n      <td>5.972</td>\n      <td>18.844</td>\n      <td>21.841</td>\n    </tr>\n  </tbody>\n</table>\n<p>2 rows × 124 columns</p>\n</div>"
     },
     "metadata": {},
     "execution_count": 108
    }
   ],
   "source": [
    "#Now temp_country_final is ready to work with it\n",
    "temp_country_final.head(2)"
   ]
  },
  {
   "cell_type": "code",
   "execution_count": 112,
   "metadata": {},
   "outputs": [
    {
     "output_type": "execute_result",
     "data": {
      "text/plain": [
       "            Afghanistan    Albania    Algeria     Angola  Argentina  \\\n",
       "Date                                                                  \n",
       "1910-12-31       14.391  13.431182  23.721364  21.503364  13.597091   \n",
       "1911-12-31       13.385  12.483583  22.574667  21.224333  13.886333   \n",
       "\n",
       "                Aruba  Australia   Austria    Bahrain  Bangladesh  ...  \\\n",
       "Date                                                               ...   \n",
       "1910-12-31  27.691545  21.000182  7.065364  26.167091   25.206364  ...   \n",
       "1911-12-31  27.580500  21.347917  6.732333  24.717083   24.503500  ...   \n",
       "\n",
       "                 Togo      Tonga    Tunisia    Turkey     Uganda  \\\n",
       "Date                                                               \n",
       "1910-12-31  26.424455  22.876818  20.262000  12.43900  22.551818   \n",
       "1911-12-31  25.992000  22.774667  19.780583  10.51575  23.103667   \n",
       "\n",
       "            United Arab Emirates  United Kingdom  United States    Uruguay  \\\n",
       "Date                                                                         \n",
       "1910-12-31             27.925818        8.840091       9.941364  15.787909   \n",
       "1911-12-31             26.847083        9.068917       8.737917  15.885250   \n",
       "\n",
       "              Vietnam  \n",
       "Date                   \n",
       "1910-12-31  23.843000  \n",
       "1911-12-31  23.796167  \n",
       "\n",
       "[2 rows x 124 columns]"
      ],
      "text/html": "<div>\n<style scoped>\n    .dataframe tbody tr th:only-of-type {\n        vertical-align: middle;\n    }\n\n    .dataframe tbody tr th {\n        vertical-align: top;\n    }\n\n    .dataframe thead th {\n        text-align: right;\n    }\n</style>\n<table border=\"1\" class=\"dataframe\">\n  <thead>\n    <tr style=\"text-align: right;\">\n      <th></th>\n      <th>Afghanistan</th>\n      <th>Albania</th>\n      <th>Algeria</th>\n      <th>Angola</th>\n      <th>Argentina</th>\n      <th>Aruba</th>\n      <th>Australia</th>\n      <th>Austria</th>\n      <th>Bahrain</th>\n      <th>Bangladesh</th>\n      <th>...</th>\n      <th>Togo</th>\n      <th>Tonga</th>\n      <th>Tunisia</th>\n      <th>Turkey</th>\n      <th>Uganda</th>\n      <th>United Arab Emirates</th>\n      <th>United Kingdom</th>\n      <th>United States</th>\n      <th>Uruguay</th>\n      <th>Vietnam</th>\n    </tr>\n    <tr>\n      <th>Date</th>\n      <th></th>\n      <th></th>\n      <th></th>\n      <th></th>\n      <th></th>\n      <th></th>\n      <th></th>\n      <th></th>\n      <th></th>\n      <th></th>\n      <th></th>\n      <th></th>\n      <th></th>\n      <th></th>\n      <th></th>\n      <th></th>\n      <th></th>\n      <th></th>\n      <th></th>\n      <th></th>\n      <th></th>\n    </tr>\n  </thead>\n  <tbody>\n    <tr>\n      <th>1910-12-31</th>\n      <td>14.391</td>\n      <td>13.431182</td>\n      <td>23.721364</td>\n      <td>21.503364</td>\n      <td>13.597091</td>\n      <td>27.691545</td>\n      <td>21.000182</td>\n      <td>7.065364</td>\n      <td>26.167091</td>\n      <td>25.206364</td>\n      <td>...</td>\n      <td>26.424455</td>\n      <td>22.876818</td>\n      <td>20.262000</td>\n      <td>12.43900</td>\n      <td>22.551818</td>\n      <td>27.925818</td>\n      <td>8.840091</td>\n      <td>9.941364</td>\n      <td>15.787909</td>\n      <td>23.843000</td>\n    </tr>\n    <tr>\n      <th>1911-12-31</th>\n      <td>13.385</td>\n      <td>12.483583</td>\n      <td>22.574667</td>\n      <td>21.224333</td>\n      <td>13.886333</td>\n      <td>27.580500</td>\n      <td>21.347917</td>\n      <td>6.732333</td>\n      <td>24.717083</td>\n      <td>24.503500</td>\n      <td>...</td>\n      <td>25.992000</td>\n      <td>22.774667</td>\n      <td>19.780583</td>\n      <td>10.51575</td>\n      <td>23.103667</td>\n      <td>26.847083</td>\n      <td>9.068917</td>\n      <td>8.737917</td>\n      <td>15.885250</td>\n      <td>23.796167</td>\n    </tr>\n  </tbody>\n</table>\n<p>2 rows × 124 columns</p>\n</div>"
     },
     "metadata": {},
     "execution_count": 112
    }
   ],
   "source": [
    "resampled = temp_country_final.resample(\"Y\").mean()\n",
    "resampled.head(2)"
   ]
  },
  {
   "cell_type": "code",
   "execution_count": 109,
   "metadata": {},
   "outputs": [
    {
     "output_type": "execute_result",
     "data": {
      "text/plain": [
       "124"
      ]
     },
     "metadata": {},
     "execution_count": 109
    }
   ],
   "source": [
    "len(list(resampled.columns))"
   ]
  },
  {
   "cell_type": "code",
   "execution_count": 118,
   "metadata": {},
   "outputs": [
    {
     "output_type": "execute_result",
     "data": {
      "text/plain": [
       "           Lat        Lon               Country\n",
       "0    42.546245   1.601554               Andorra\n",
       "1    23.424076  53.847818  United Arab Emirates\n",
       "2    33.939110  67.709953           Afghanistan\n",
       "3    17.060816 -61.796428   Antigua and Barbuda\n",
       "4    18.220554 -63.068615              Anguilla\n",
       "..         ...        ...                   ...\n",
       "240  15.552727  48.516388                 Yemen\n",
       "241 -12.827500  45.166244               Mayotte\n",
       "242 -30.559482  22.937506          South Africa\n",
       "243 -13.133897  27.849332                Zambia\n",
       "244 -19.015438  29.154857              Zimbabwe\n",
       "\n",
       "[245 rows x 3 columns]"
      ],
      "text/html": "<div>\n<style scoped>\n    .dataframe tbody tr th:only-of-type {\n        vertical-align: middle;\n    }\n\n    .dataframe tbody tr th {\n        vertical-align: top;\n    }\n\n    .dataframe thead th {\n        text-align: right;\n    }\n</style>\n<table border=\"1\" class=\"dataframe\">\n  <thead>\n    <tr style=\"text-align: right;\">\n      <th></th>\n      <th>Lat</th>\n      <th>Lon</th>\n      <th>Country</th>\n    </tr>\n  </thead>\n  <tbody>\n    <tr>\n      <th>0</th>\n      <td>42.546245</td>\n      <td>1.601554</td>\n      <td>Andorra</td>\n    </tr>\n    <tr>\n      <th>1</th>\n      <td>23.424076</td>\n      <td>53.847818</td>\n      <td>United Arab Emirates</td>\n    </tr>\n    <tr>\n      <th>2</th>\n      <td>33.939110</td>\n      <td>67.709953</td>\n      <td>Afghanistan</td>\n    </tr>\n    <tr>\n      <th>3</th>\n      <td>17.060816</td>\n      <td>-61.796428</td>\n      <td>Antigua and Barbuda</td>\n    </tr>\n    <tr>\n      <th>4</th>\n      <td>18.220554</td>\n      <td>-63.068615</td>\n      <td>Anguilla</td>\n    </tr>\n    <tr>\n      <th>...</th>\n      <td>...</td>\n      <td>...</td>\n      <td>...</td>\n    </tr>\n    <tr>\n      <th>240</th>\n      <td>15.552727</td>\n      <td>48.516388</td>\n      <td>Yemen</td>\n    </tr>\n    <tr>\n      <th>241</th>\n      <td>-12.827500</td>\n      <td>45.166244</td>\n      <td>Mayotte</td>\n    </tr>\n    <tr>\n      <th>242</th>\n      <td>-30.559482</td>\n      <td>22.937506</td>\n      <td>South Africa</td>\n    </tr>\n    <tr>\n      <th>243</th>\n      <td>-13.133897</td>\n      <td>27.849332</td>\n      <td>Zambia</td>\n    </tr>\n    <tr>\n      <th>244</th>\n      <td>-19.015438</td>\n      <td>29.154857</td>\n      <td>Zimbabwe</td>\n    </tr>\n  </tbody>\n</table>\n<p>245 rows × 3 columns</p>\n</div>"
     },
     "metadata": {},
     "execution_count": 118
    }
   ],
   "source": [
    "#Reading coord data from file\n",
    "coord_raw = pd.read_csv(\"..\\\\resources\\\\coord.csv\")\n",
    "\n",
    "#Dropping columns\n",
    "coord_raw.drop(columns=\"country\", inplace=True)\n",
    "\n",
    "#Renaming columns\n",
    "coord_raw.rename(columns={\"latitude\":\"Lat\", \"longitude\":\"Lon\", \"name\":\"Country\"}, inplace=True)\n",
    "coord_raw"
   ]
  },
  {
   "cell_type": "code",
   "execution_count": 124,
   "metadata": {},
   "outputs": [
    {
     "output_type": "execute_result",
     "data": {
      "text/plain": [
       "Country  Afghanistan    Albania    Algeria     Angola  Argentina      Aruba  \\\n",
       "Lat        33.939110  41.153332  28.033886 -11.202692 -38.416097  12.521110   \n",
       "Lon        67.709953  20.168331   1.659626  17.873887 -63.616672 -69.968338   \n",
       "\n",
       "Country   Australia    Austria    Bahrain  Bangladesh  ...      Togo  \\\n",
       "Lat      -25.274398  47.516231  25.930414   23.684994  ...  8.619543   \n",
       "Lon      133.775136  14.550072  50.637772   90.356331  ...  0.824782   \n",
       "\n",
       "Country       Tonga    Tunisia     Turkey     Uganda  United Arab Emirates  \\\n",
       "Lat      -21.178986  33.886917  38.963745   1.373333             23.424076   \n",
       "Lon     -175.198242   9.537499  35.243322  32.290275             53.847818   \n",
       "\n",
       "Country  United Kingdom  United States    Uruguay     Vietnam  \n",
       "Lat           55.378051      37.090240 -32.522779   14.058324  \n",
       "Lon           -3.435973     -95.712891 -55.765835  108.277199  \n",
       "\n",
       "[2 rows x 123 columns]"
      ],
      "text/html": "<div>\n<style scoped>\n    .dataframe tbody tr th:only-of-type {\n        vertical-align: middle;\n    }\n\n    .dataframe tbody tr th {\n        vertical-align: top;\n    }\n\n    .dataframe thead th {\n        text-align: right;\n    }\n</style>\n<table border=\"1\" class=\"dataframe\">\n  <thead>\n    <tr style=\"text-align: right;\">\n      <th>Country</th>\n      <th>Afghanistan</th>\n      <th>Albania</th>\n      <th>Algeria</th>\n      <th>Angola</th>\n      <th>Argentina</th>\n      <th>Aruba</th>\n      <th>Australia</th>\n      <th>Austria</th>\n      <th>Bahrain</th>\n      <th>Bangladesh</th>\n      <th>...</th>\n      <th>Togo</th>\n      <th>Tonga</th>\n      <th>Tunisia</th>\n      <th>Turkey</th>\n      <th>Uganda</th>\n      <th>United Arab Emirates</th>\n      <th>United Kingdom</th>\n      <th>United States</th>\n      <th>Uruguay</th>\n      <th>Vietnam</th>\n    </tr>\n  </thead>\n  <tbody>\n    <tr>\n      <th>Lat</th>\n      <td>33.939110</td>\n      <td>41.153332</td>\n      <td>28.033886</td>\n      <td>-11.202692</td>\n      <td>-38.416097</td>\n      <td>12.521110</td>\n      <td>-25.274398</td>\n      <td>47.516231</td>\n      <td>25.930414</td>\n      <td>23.684994</td>\n      <td>...</td>\n      <td>8.619543</td>\n      <td>-21.178986</td>\n      <td>33.886917</td>\n      <td>38.963745</td>\n      <td>1.373333</td>\n      <td>23.424076</td>\n      <td>55.378051</td>\n      <td>37.090240</td>\n      <td>-32.522779</td>\n      <td>14.058324</td>\n    </tr>\n    <tr>\n      <th>Lon</th>\n      <td>67.709953</td>\n      <td>20.168331</td>\n      <td>1.659626</td>\n      <td>17.873887</td>\n      <td>-63.616672</td>\n      <td>-69.968338</td>\n      <td>133.775136</td>\n      <td>14.550072</td>\n      <td>50.637772</td>\n      <td>90.356331</td>\n      <td>...</td>\n      <td>0.824782</td>\n      <td>-175.198242</td>\n      <td>9.537499</td>\n      <td>35.243322</td>\n      <td>32.290275</td>\n      <td>53.847818</td>\n      <td>-3.435973</td>\n      <td>-95.712891</td>\n      <td>-55.765835</td>\n      <td>108.277199</td>\n    </tr>\n  </tbody>\n</table>\n<p>2 rows × 123 columns</p>\n</div>"
     },
     "metadata": {},
     "execution_count": 124
    }
   ],
   "source": [
    "coord_clean = coord_raw.loc[coord_raw[\"Country\"].isin(list(resampled.columns))]\n",
    "coord_clean = coord_clean.set_index(\"Country\")\n",
    "coord_clean = coord_clean.T\n",
    "coord_clean.sort_index(axis=1, inplace=True)\n",
    "coord_clean"
   ]
  },
  {
   "cell_type": "code",
   "execution_count": 136,
   "metadata": {},
   "outputs": [
    {
     "output_type": "error",
     "ename": "ModuleNotFoundError",
     "evalue": "No module named 'mpl_toolkits.basemap'",
     "traceback": [
      "\u001b[1;31m---------------------------------------------------------------------------\u001b[0m",
      "\u001b[1;31mModuleNotFoundError\u001b[0m                       Traceback (most recent call last)",
      "\u001b[1;32m<ipython-input-136-76abf23b3808>\u001b[0m in \u001b[0;36m<module>\u001b[1;34m\u001b[0m\n\u001b[0;32m      1\u001b[0m \u001b[1;31m# libraries\u001b[0m\u001b[1;33m\u001b[0m\u001b[1;33m\u001b[0m\u001b[1;33m\u001b[0m\u001b[0m\n\u001b[1;32m----> 2\u001b[1;33m \u001b[1;32mfrom\u001b[0m \u001b[0mmpl_toolkits\u001b[0m\u001b[1;33m.\u001b[0m\u001b[0mbasemap\u001b[0m \u001b[1;32mimport\u001b[0m \u001b[0mBasemap\u001b[0m\u001b[1;33m\u001b[0m\u001b[1;33m\u001b[0m\u001b[0m\n\u001b[0m\u001b[0;32m      3\u001b[0m \u001b[1;33m\u001b[0m\u001b[0m\n\u001b[0;32m      4\u001b[0m \u001b[1;31m# Always start witht the basemap function to initialize a map\u001b[0m\u001b[1;33m\u001b[0m\u001b[1;33m\u001b[0m\u001b[1;33m\u001b[0m\u001b[0m\n\u001b[0;32m      5\u001b[0m \u001b[0mm\u001b[0m\u001b[1;33m=\u001b[0m\u001b[0mBasemap\u001b[0m\u001b[1;33m(\u001b[0m\u001b[1;33m)\u001b[0m\u001b[1;33m\u001b[0m\u001b[1;33m\u001b[0m\u001b[0m\n",
      "\u001b[1;31mModuleNotFoundError\u001b[0m: No module named 'mpl_toolkits.basemap'"
     ]
    }
   ],
   "source": [
    "# libraries\n",
    "from mpl_toolkits.basemap import Basemap\n",
    " \n",
    "# Always start witht the basemap function to initialize a map\n",
    "m=Basemap()\n",
    " \n",
    "# Then add element: draw coast line, map boundary, and fill continents:\n",
    "m.drawcoastlines()\n",
    "m.drawmapboundary()\n",
    "m.fillcontinents()\n",
    " \n",
    "# You can add rivers as well\n",
    "#m.drawrivers(color='#0000ff')\n",
    " \n",
    "plt.show()"
   ]
  },
  {
   "cell_type": "code",
   "execution_count": null,
   "metadata": {},
   "outputs": [],
   "source": []
  }
 ]
}