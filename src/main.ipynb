{
 "metadata": {
  "language_info": {
   "codemirror_mode": {
    "name": "ipython",
    "version": 3
   },
   "file_extension": ".py",
   "mimetype": "text/x-python",
   "name": "python",
   "nbconvert_exporter": "python",
   "pygments_lexer": "ipython3",
   "version": "3.8.3-final"
  },
  "orig_nbformat": 2,
  "kernelspec": {
   "name": "python38364bit164af2ad12ec43738b613afbc283bc8a",
   "display_name": "Python 3.8.3 64-bit",
   "language": "python"
  }
 },
 "nbformat": 4,
 "nbformat_minor": 2,
 "cells": [
  {
   "cell_type": "code",
   "execution_count": 1,
   "metadata": {},
   "outputs": [],
   "source": [
    "# Importing modules\n",
    "import utils.fileManager as fm\n",
    "import utils.dataWrangler as dw\n",
    "\n",
    "# Creating needed objects\n",
    "file_manager = fm.FileManager()\n",
    "data_wrangler = dw.DataWrangler()"
   ]
  },
  {
   "cell_type": "code",
   "execution_count": 2,
   "metadata": {},
   "outputs": [
    {
     "output_type": "stream",
     "name": "stdout",
     "text": [
      ">> Dataframe succesfully generated from: ..\\resources\\CO2.csv\n",
      ">> Dataframe succesfully generated from: ..\\resources\\GlobalLandTemperaturesByCountry.csv\n",
      ">> Dataframe succesfully generated from: ..\\resources\\coord.csv\n",
      ">> The list with common countries has been generated with 168 elements.\n"
     ]
    }
   ],
   "source": [
    "# Reading data from files\n",
    "CO2_raw_data = file_manager.file_to_df(\"..\\\\resources\\\\CO2.csv\")\n",
    "temp_country_raw = file_manager.file_to_df(\"..\\\\resources\\\\GlobalLandTemperaturesByCountry.csv\")\n",
    "coord_raw = file_manager.file_to_df(\"..\\\\resources\\\\coord.csv\")\n",
    "\n",
    "# Locating common countries\n",
    "data_wrangler.common_countries_check(CO2_raw_data,temp_country_raw)\n",
    "\n",
    "# Clean CO2 data\n",
    "CO2_data = data_wrangler.clean_CO2_data(CO2_raw_data)\n",
    "\n",
    "# Clean temperature data\n",
    "start_date = \"1910-01-01\"\n",
    "end_date = \"2013-08-01\"\n",
    "temp_data = data_wrangler.clean_temp_data(start_date, end_date, temp_country_raw)\n",
    "\n",
    "# Clean coordinate data\n",
    "\n",
    "# Saving cleaned data to csv"
   ]
  },
  {
   "cell_type": "code",
   "execution_count": 3,
   "metadata": {},
   "outputs": [
    {
     "output_type": "stream",
     "name": "stdout",
     "text": [
      ">> CO2 data is cleaned and ready.\n"
     ]
    }
   ],
   "source": []
  },
  {
   "cell_type": "code",
   "execution_count": 4,
   "metadata": {},
   "outputs": [
    {
     "output_type": "stream",
     "name": "stdout",
     "text": [
      ">> Temperature data is cleaned and ready.\n"
     ]
    }
   ],
   "source": []
  },
  {
   "cell_type": "code",
   "execution_count": 118,
   "metadata": {},
   "outputs": [
    {
     "output_type": "execute_result",
     "data": {
      "text/plain": [
       "           Lat        Lon               Country\n",
       "0    42.546245   1.601554               Andorra\n",
       "1    23.424076  53.847818  United Arab Emirates\n",
       "2    33.939110  67.709953           Afghanistan\n",
       "3    17.060816 -61.796428   Antigua and Barbuda\n",
       "4    18.220554 -63.068615              Anguilla\n",
       "..         ...        ...                   ...\n",
       "240  15.552727  48.516388                 Yemen\n",
       "241 -12.827500  45.166244               Mayotte\n",
       "242 -30.559482  22.937506          South Africa\n",
       "243 -13.133897  27.849332                Zambia\n",
       "244 -19.015438  29.154857              Zimbabwe\n",
       "\n",
       "[245 rows x 3 columns]"
      ],
      "text/html": "<div>\n<style scoped>\n    .dataframe tbody tr th:only-of-type {\n        vertical-align: middle;\n    }\n\n    .dataframe tbody tr th {\n        vertical-align: top;\n    }\n\n    .dataframe thead th {\n        text-align: right;\n    }\n</style>\n<table border=\"1\" class=\"dataframe\">\n  <thead>\n    <tr style=\"text-align: right;\">\n      <th></th>\n      <th>Lat</th>\n      <th>Lon</th>\n      <th>Country</th>\n    </tr>\n  </thead>\n  <tbody>\n    <tr>\n      <th>0</th>\n      <td>42.546245</td>\n      <td>1.601554</td>\n      <td>Andorra</td>\n    </tr>\n    <tr>\n      <th>1</th>\n      <td>23.424076</td>\n      <td>53.847818</td>\n      <td>United Arab Emirates</td>\n    </tr>\n    <tr>\n      <th>2</th>\n      <td>33.939110</td>\n      <td>67.709953</td>\n      <td>Afghanistan</td>\n    </tr>\n    <tr>\n      <th>3</th>\n      <td>17.060816</td>\n      <td>-61.796428</td>\n      <td>Antigua and Barbuda</td>\n    </tr>\n    <tr>\n      <th>4</th>\n      <td>18.220554</td>\n      <td>-63.068615</td>\n      <td>Anguilla</td>\n    </tr>\n    <tr>\n      <th>...</th>\n      <td>...</td>\n      <td>...</td>\n      <td>...</td>\n    </tr>\n    <tr>\n      <th>240</th>\n      <td>15.552727</td>\n      <td>48.516388</td>\n      <td>Yemen</td>\n    </tr>\n    <tr>\n      <th>241</th>\n      <td>-12.827500</td>\n      <td>45.166244</td>\n      <td>Mayotte</td>\n    </tr>\n    <tr>\n      <th>242</th>\n      <td>-30.559482</td>\n      <td>22.937506</td>\n      <td>South Africa</td>\n    </tr>\n    <tr>\n      <th>243</th>\n      <td>-13.133897</td>\n      <td>27.849332</td>\n      <td>Zambia</td>\n    </tr>\n    <tr>\n      <th>244</th>\n      <td>-19.015438</td>\n      <td>29.154857</td>\n      <td>Zimbabwe</td>\n    </tr>\n  </tbody>\n</table>\n<p>245 rows × 3 columns</p>\n</div>"
     },
     "metadata": {},
     "execution_count": 118
    }
   ],
   "source": [
    "#Reading coord data from file\n",
    "coord_raw = pd.read_csv(\"..\\\\resources\\\\coord.csv\")\n",
    "\n",
    "#Dropping columns\n",
    "coord_raw.drop(columns=\"country\", inplace=True)\n",
    "\n",
    "#Renaming columns\n",
    "coord_raw.rename(columns={\"latitude\":\"Lat\", \"longitude\":\"Lon\", \"name\":\"Country\"}, inplace=True)\n",
    "coord_raw"
   ]
  },
  {
   "cell_type": "code",
   "execution_count": 124,
   "metadata": {},
   "outputs": [
    {
     "output_type": "execute_result",
     "data": {
      "text/plain": [
       "Country  Afghanistan    Albania    Algeria     Angola  Argentina      Aruba  \\\n",
       "Lat        33.939110  41.153332  28.033886 -11.202692 -38.416097  12.521110   \n",
       "Lon        67.709953  20.168331   1.659626  17.873887 -63.616672 -69.968338   \n",
       "\n",
       "Country   Australia    Austria    Bahrain  Bangladesh  ...      Togo  \\\n",
       "Lat      -25.274398  47.516231  25.930414   23.684994  ...  8.619543   \n",
       "Lon      133.775136  14.550072  50.637772   90.356331  ...  0.824782   \n",
       "\n",
       "Country       Tonga    Tunisia     Turkey     Uganda  United Arab Emirates  \\\n",
       "Lat      -21.178986  33.886917  38.963745   1.373333             23.424076   \n",
       "Lon     -175.198242   9.537499  35.243322  32.290275             53.847818   \n",
       "\n",
       "Country  United Kingdom  United States    Uruguay     Vietnam  \n",
       "Lat           55.378051      37.090240 -32.522779   14.058324  \n",
       "Lon           -3.435973     -95.712891 -55.765835  108.277199  \n",
       "\n",
       "[2 rows x 123 columns]"
      ],
      "text/html": "<div>\n<style scoped>\n    .dataframe tbody tr th:only-of-type {\n        vertical-align: middle;\n    }\n\n    .dataframe tbody tr th {\n        vertical-align: top;\n    }\n\n    .dataframe thead th {\n        text-align: right;\n    }\n</style>\n<table border=\"1\" class=\"dataframe\">\n  <thead>\n    <tr style=\"text-align: right;\">\n      <th>Country</th>\n      <th>Afghanistan</th>\n      <th>Albania</th>\n      <th>Algeria</th>\n      <th>Angola</th>\n      <th>Argentina</th>\n      <th>Aruba</th>\n      <th>Australia</th>\n      <th>Austria</th>\n      <th>Bahrain</th>\n      <th>Bangladesh</th>\n      <th>...</th>\n      <th>Togo</th>\n      <th>Tonga</th>\n      <th>Tunisia</th>\n      <th>Turkey</th>\n      <th>Uganda</th>\n      <th>United Arab Emirates</th>\n      <th>United Kingdom</th>\n      <th>United States</th>\n      <th>Uruguay</th>\n      <th>Vietnam</th>\n    </tr>\n  </thead>\n  <tbody>\n    <tr>\n      <th>Lat</th>\n      <td>33.939110</td>\n      <td>41.153332</td>\n      <td>28.033886</td>\n      <td>-11.202692</td>\n      <td>-38.416097</td>\n      <td>12.521110</td>\n      <td>-25.274398</td>\n      <td>47.516231</td>\n      <td>25.930414</td>\n      <td>23.684994</td>\n      <td>...</td>\n      <td>8.619543</td>\n      <td>-21.178986</td>\n      <td>33.886917</td>\n      <td>38.963745</td>\n      <td>1.373333</td>\n      <td>23.424076</td>\n      <td>55.378051</td>\n      <td>37.090240</td>\n      <td>-32.522779</td>\n      <td>14.058324</td>\n    </tr>\n    <tr>\n      <th>Lon</th>\n      <td>67.709953</td>\n      <td>20.168331</td>\n      <td>1.659626</td>\n      <td>17.873887</td>\n      <td>-63.616672</td>\n      <td>-69.968338</td>\n      <td>133.775136</td>\n      <td>14.550072</td>\n      <td>50.637772</td>\n      <td>90.356331</td>\n      <td>...</td>\n      <td>0.824782</td>\n      <td>-175.198242</td>\n      <td>9.537499</td>\n      <td>35.243322</td>\n      <td>32.290275</td>\n      <td>53.847818</td>\n      <td>-3.435973</td>\n      <td>-95.712891</td>\n      <td>-55.765835</td>\n      <td>108.277199</td>\n    </tr>\n  </tbody>\n</table>\n<p>2 rows × 123 columns</p>\n</div>"
     },
     "metadata": {},
     "execution_count": 124
    }
   ],
   "source": [
    "coord_clean = coord_raw.loc[coord_raw[\"Country\"].isin(list(resampled.columns))]\n",
    "coord_clean = coord_clean.set_index(\"Country\")\n",
    "coord_clean = coord_clean.T\n",
    "coord_clean.sort_index(axis=1, inplace=True)\n",
    "coord_clean"
   ]
  }
 ]
}